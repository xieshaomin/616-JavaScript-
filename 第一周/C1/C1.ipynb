{
 "cells": [
  {
   "cell_type": "markdown",
   "id": "66750514-1510-4fdf-b48b-b019b314af59",
   "metadata": {
    "jp-MarkdownHeadingCollapsed": true
   },
   "source": [
    "## 823 翻转图象"
   ]
  },
  {
   "cell_type": "code",
   "execution_count": null,
   "id": "e2fcd0c5-e67c-4353-88e4-87783b00ed9b",
   "metadata": {},
   "outputs": [],
   "source": [
    "// 832. 翻转图象\n",
    "var flipAndInvertImage = function(image) {\n",
    "\n",
    "//方法一：双指针法\n",
    "    let temp;\n",
    "    for(let i=0;i<image.length;i++){\n",
    "        let j=0,k=image[i].length-1;\n",
    "        while(j<k){\n",
    "            image[i][j] = (image[i][j]^1);\n",
    "            image[i][k] = (image[i][k]^1);\n",
    "\n",
    "            temp = image[i][j];\n",
    "            image[i][j] = image[i][k];\n",
    "            image[i][k] = temp;\n",
    "            j++;\n",
    "            k--;\n",
    "        }\n",
    "        if(j==k){\n",
    "            image[i][j] = (image[i][j]^1);\n",
    "        }\n",
    "    }\n",
    "    return image;\n",
    "\n",
    "//方法二：reverse反转\n",
    "    for(let i=0;i<image.length;i++){\n",
    "        image[i] = image[i].reverse()\n",
    "        for(let k=0;k<image[i].length;k++){\n",
    "            image[i][k] = image[i][k]^1;\n",
    "        }\n",
    "    }\n",
    "     return image\n",
    "//方法三：map遍历\n",
    "    return image.map(row => row.reverse().map(a => a ^ 1))\n",
    "};"
   ]
  },
  {
   "cell_type": "markdown",
   "id": "7ba5ff5c-2070-485a-acd0-49ac687f0226",
   "metadata": {
    "jp-MarkdownHeadingCollapsed": true
   },
   "source": [
    "## 27. 移除元素"
   ]
  },
  {
   "cell_type": "code",
   "execution_count": null,
   "id": "60f4230b-6a01-49f7-809b-a3268d6feafe",
   "metadata": {},
   "outputs": [],
   "source": [
    "//双指针\n",
    "function removeElement(nums, val) {\n",
    "    let k = 0;\n",
    "\n",
    "    for (let i = 0; i < nums.length; i++) {\n",
    "        if (nums[i] !== val) {\n",
    "            nums[k] = nums[i];\n",
    "            k++;\n",
    "        }\n",
    "    }\n",
    "\n",
    "    return k;\n",
    "}"
   ]
  },
  {
   "cell_type": "code",
   "execution_count": null,
   "id": "c1058567-e03a-406b-b7af-1065cacabe90",
   "metadata": {},
   "outputs": [],
   "source": [
    "//双指针测试\n",
    "function testRemoveElement() {\n",
    "    // 示例 1\n",
    "    let nums1 = [3, 2, 2, 3];\n",
    "    let val1 = 3;\n",
    "    let k1 = removeElement(nums1, val1);\n",
    "    console.log(k1);\n",
    "    console.log(nums1);\n",
    "\n",
    "    // 示例 2\n",
    "    let nums2 = [0, 1, 2, 2, 3, 0, 4, 2];\n",
    "    let val2 = 2;\n",
    "    let k2 = removeElement(nums2, val2);\n",
    "    console.log(k2);\n",
    "    console.log(nums2);\n",
    "}"
   ]
  },
  {
   "cell_type": "code",
   "execution_count": null,
   "id": "913d2cda-302e-492d-81e1-1f714ba1920c",
   "metadata": {},
   "outputs": [],
   "source": [
    "testRemoveElement();"
   ]
  },
  {
   "cell_type": "code",
   "execution_count": null,
   "id": "f9aaa091-c557-483a-8165-c588ec00b9ef",
   "metadata": {},
   "outputs": [],
   "source": [
    "//双指针改进\n",
    "function removeElementPro(nums, val) {\n",
    "    let left = 0, right = nums.length;\n",
    "    while (left < right) {\n",
    "        if (nums[left] === val) {\n",
    "            nums[left] = nums[right - 1];\n",
    "            right--;\n",
    "        } else {\n",
    "            left++;\n",
    "        }\n",
    "    }\n",
    "    return left;\n",
    "\n",
    "}"
   ]
  },
  {
   "cell_type": "code",
   "execution_count": null,
   "id": "58309370-8279-4e0e-ae8d-d5a56b81abdd",
   "metadata": {},
   "outputs": [],
   "source": [
    "//双指针改进测试\n",
    "function testRemoveElementPro() {\n",
    "    // 示例 1\n",
    "    let nums1 = [3, 2, 2, 3];\n",
    "    let val1 = 3;\n",
    "    let k1 = removeElementPro(nums1, val1);\n",
    "    console.log(k1);\n",
    "    console.log(nums1);\n",
    "\n",
    "    // 示例 2\n",
    "    let nums2 = [0, 1, 2, 2, 3, 0, 4, 2];\n",
    "    let val2 = 2;\n",
    "    let k2 = removeElementPro(nums2, val2);\n",
    "    console.log(k2);\n",
    "    console.log(nums2);\n",
    "}"
   ]
  },
  {
   "cell_type": "code",
   "execution_count": null,
   "id": "d06060fa-3e20-4966-b416-a29079de49f5",
   "metadata": {},
   "outputs": [],
   "source": [
    "testRemoveElementPro()"
   ]
  },
  {
   "cell_type": "markdown",
   "id": "0c37fc13-2d78-41f6-988d-ffb2d10f42d1",
   "metadata": {
    "jp-MarkdownHeadingCollapsed": true
   },
   "source": [
    "## 977 有序数组的平方"
   ]
  },
  {
   "cell_type": "code",
   "execution_count": null,
   "id": "506925ba-6df3-4a94-9c98-5364b32c4399",
   "metadata": {},
   "outputs": [],
   "source": [
    "var sortedSquares = function(nums) {\n",
    "     var arr = [];\n",
    "     nums.forEach((item)=>{\n",
    "     arr.push(Math.pow(item,2))\n",
    "   })\n",
    "   return arr.sort((a,b) => a-b)\n",
    "};"
   ]
  },
  {
   "cell_type": "markdown",
   "id": "1f8074bb-8c52-4ca9-ab77-54a8d7d63933",
   "metadata": {
    "jp-MarkdownHeadingCollapsed": true
   },
   "source": [
    "## 34 在排序数组中查找元素的第一个和最后一个位置"
   ]
  },
  {
   "cell_type": "code",
   "execution_count": null,
   "id": "a369c116-ad95-49a3-b397-cbc937954d9a",
   "metadata": {},
   "outputs": [],
   "source": [
    "var searchRange = function(nums, target) {\n",
    "    //有序数组长度为0的时候\n",
    "    if(nums.length == 0) {\n",
    "        return [-1, -1];\n",
    "    }\n",
    "    //定义目标值的开始位置\n",
    "    let start = findFirst(nums, target);\n",
    "    //定义目标值的结束位置\n",
    "    let end = findEnd(nums, target);\n",
    "    //返回目标值的开始位置和结束位置\n",
    "    return [start, end];\n",
    "};\n",
    "\n",
    " //用二分法查找开始位置\n",
    "function findFirst(nums, target) {\n",
    "    //start的初始值\n",
    "    let start = -1;\n",
    "    //左边界left:指向数组第一个元素\n",
    "    let left = 0;\n",
    "    //右边界right指向数组最后一元素：nums.length-1\n",
    "    let right = nums.length - 1;\n",
    "\n",
    "    //二分法条件判断\n",
    "    while(left <= right) {\n",
    "        let mid = left + Math.floor((right - left) / 2);\n",
    "        if(nums[mid] >= target) {\n",
    "            start = mid;//需要继续往左找，直到不存在\n",
    "             //缩小左半部分，更新right\n",
    "            right = mid - 1;\n",
    "        } else {\n",
    "            //缩小右半部分，更新left\n",
    "            left = mid + 1;\n",
    "        }\n",
    "    }\n",
    "    return nums[start] == target ? start : -1;\n",
    "}\n",
    "\n",
    "function findEnd(nums, target) {\n",
    "    //end的初始值\n",
    "    let end = -1;\n",
    "    //左边界left:指向数组第一个元素\n",
    "    let left = 0;\n",
    "    //右边界right指向数组最后一元素：nums.length-1\n",
    "    let right = nums.length - 1;\n",
    "\n",
    "    //二分法条件判断\n",
    "    while(left <= right) {\n",
    "        let mid = left + Math.floor((right - left) / 2);\n",
    "        if(nums[mid] <= target) {\n",
    "            end = mid;//需要继续往右找，直到不存在\n",
    "            left = mid + 1;//缩小右半部分，更新left\n",
    "        } else {\n",
    "             //缩小左半部分，更新right\n",
    "            right = mid - 1;\n",
    "        }\n",
    "    }\n",
    "    return nums[end] == target ? end : -1;\n",
    "}"
   ]
  },
  {
   "cell_type": "markdown",
   "id": "f8a14d58-1928-43b8-8683-6dc7de32f490",
   "metadata": {
    "jp-MarkdownHeadingCollapsed": true
   },
   "source": [
    "## 59 螺旋矩阵 II"
   ]
  },
  {
   "cell_type": "code",
   "execution_count": null,
   "id": "17c13fde-d8ca-45b1-beb7-0afb55843ba8",
   "metadata": {},
   "outputs": [],
   "source": [
    "var generateMatrix = function(n) {\n",
    "    let res = new Array(n).fill(0).map(() => new Array(n).fill(0));\n",
    "    let startx = starty = 0;   // 起始位置 \n",
    "    let mid = Math.floor(n/2);   \n",
    "    let end = 1;    // 控制每一层填充元素个数\n",
    "    let count = 1;\n",
    "    let circle = 1; \n",
    "    let i,j;   \n",
    "    while(circle <= n/2){  //总共转了n/2圈\n",
    "            //上边\n",
    "            for(j = starty;j < n-end;j++){\n",
    "                res[startx][j] = count++;\n",
    "            }\n",
    "            //右边\n",
    "            for(i = startx;i < n-end;i++){\n",
    "                res[i][j] = count++;\n",
    "            }\n",
    "            //下边\n",
    "            for(;j > starty;j--){\n",
    "                res[i][j] = count++;\n",
    "            }\n",
    "            //左边\n",
    "            for(;i > startx;i--){\n",
    "                res[i][j] = count++;\n",
    "            }\n",
    "    \n",
    "            startx++;\n",
    "            starty++;\n",
    "            circle++;\n",
    "            end++;\n",
    "    }\n",
    "    // 如果n为奇数的话，需要单独给矩阵最中间的位置赋值\n",
    "    if (n % 2 === 1) {\n",
    "        res[mid][mid] = count;\n",
    "    }\n",
    "    return res;\n",
    "};"
   ]
  },
  {
   "cell_type": "markdown",
   "id": "878da731-f67d-4042-bbe1-d070e79cf0a6",
   "metadata": {
    "jp-MarkdownHeadingCollapsed": true
   },
   "source": [
    "## 袁老师点评\n",
    "对于问题的思考：\n",
    "* 想到用什么方法解决问题\n",
    "* 问题分析-剖析问题本质\n",
    "* 具体代码实现"
   ]
  },
  {
   "cell_type": "code",
   "execution_count": null,
   "id": "3b5fdc5b-73b9-4d33-a1bf-338000f59bc8",
   "metadata": {},
   "outputs": [],
   "source": []
  }
 ],
 "metadata": {
  "kernelspec": {
   "display_name": "JavaScript (Node.js)",
   "language": "javascript",
   "name": "javascript"
  },
  "language_info": {
   "file_extension": ".js",
   "mimetype": "application/javascript",
   "name": "javascript",
   "version": "18.19.1"
  }
 },
 "nbformat": 4,
 "nbformat_minor": 5
}
