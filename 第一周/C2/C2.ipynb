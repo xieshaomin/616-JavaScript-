{
 "cells": [
  {
   "cell_type": "markdown",
   "id": "cd501568-0312-4010-b9bd-f80514f1c25b",
   "metadata": {
    "jp-MarkdownHeadingCollapsed": true
   },
   "source": [
    "## 896单调数列"
   ]
  },
  {
   "cell_type": "code",
   "execution_count": null,
   "id": "27b073a9-ecc9-4c81-b15d-503345732c29",
   "metadata": {},
   "outputs": [],
   "source": [
    "// 法一\n",
    "var isMonotonic = function(nums) {\n",
    "    const len = nums.length;\n",
    "    let up = true; // 表示单调递增\n",
    "    let low = true; // 表示单调递减\n",
    "    for(let i=0;i<len-1;i++){\n",
    "        if(nums[i] > nums[i+1]){\n",
    "            low = false; // 如果前一个大于后一个，则将单调递减的标志置为假\n",
    "        }\n",
    "        if(nums[i]<nums[i+1]){\n",
    "            up = false;  // 如果前一个小于后一个，则将单调递增的标志置为假\n",
    "        }\n",
    "    }\n",
    "    return up||low; // 返回递增、递减、既不递增也不递减\n",
    "};\n",
    "\n",
    "// 法二\n",
    "var isMonotonic = function(nums) {\n",
    "    return sort(nums) || sort(nums.reverse());\n",
    "};\n",
    "\n",
    "function sort(nums) {\n",
    "    return nums.slice(1).every((item, i) => nums[i] <= item)\n",
    "}"
   ]
  },
  {
   "cell_type": "markdown",
   "id": "f7ce131a-ada5-4d3a-a5bf-705947511f2c",
   "metadata": {
    "jp-MarkdownHeadingCollapsed": true
   },
   "source": [
    "## 349 两个数组的交集"
   ]
  },
  {
   "cell_type": "code",
   "execution_count": null,
   "id": "b2f0879b-46df-49db-8cf7-f940057def77",
   "metadata": {},
   "outputs": [],
   "source": [
    "var intersection = function(nums1, nums2) {\n",
    "    //法1：遍历数组形成有重复元素的新并集数组，用集合消去重复元素\n",
    "    // let a=new Array();\n",
    "    // for (let j=0;j<nums2.length;j++)\n",
    "    // for (let i=0;i<nums1.length;i++)\n",
    "    // {\n",
    "    // if(nums2[j] === nums1[i])\n",
    "    // {\n",
    "    //     a.push(nums1[i]);\n",
    "    // }\n",
    "    // }\n",
    "    //     let b =new Set(a);\n",
    "    //     return Array.from(b);\n",
    "//法2：用filter筛选出并集，用set消去重复元素。\n",
    "    let set1 = new Set(nums1);\n",
    "    let set2 = new Set(nums2);\n",
    "    let a = new Set(nums1.filter(num => set2.has(num))); \n",
    "    return Array.from(a);\n",
    "};"
   ]
  },
  {
   "cell_type": "markdown",
   "id": "029d40c6-444b-4743-bcb2-d22717c84260",
   "metadata": {
    "jp-MarkdownHeadingCollapsed": true
   },
   "source": [
    "## 922 按奇偶排序数组 II"
   ]
  },
  {
   "cell_type": "code",
   "execution_count": null,
   "id": "3424f0f3-3788-4ab7-8d46-50fdd85e1c14",
   "metadata": {},
   "outputs": [],
   "source": [
    "const swap = (nums, i, j) => {\n",
    "    const temp = nums[i];\n",
    "    nums[i] = nums[j];\n",
    "    nums[j] = temp;\n",
    "};\n",
    "var sortArrayByParityII = function(nums) {\n",
    "    const n  = nums.length;\n",
    "    let j = 1;\n",
    "    for (let i = 0; i < n; i += 2) {\n",
    "        if (nums[i] & 1) {\n",
    "            while (nums[j] & 1) {\n",
    "                j += 2;\n",
    "            }\n",
    "            swap(nums, i, j);\n",
    "        }\n",
    "    }   \n",
    "    return nums;\n",
    "    // var pl = 0;\n",
    "    // var sl = 1;\n",
    "    // var len = nums.length;\n",
    "    // var n = new Array(len);\n",
    "    // for(let i=0;i<len;i++){\n",
    "    //     if(nums[i] % 2 == 0){\n",
    "    //         n[pl] = nums[i];\n",
    "    //         pl+=2;\n",
    "    //     }else{\n",
    "    //         n[sl] = nums[i];\n",
    "    //         sl+=2;\n",
    "    //     }\n",
    "    // }\n",
    "    // return n;\n",
    "};"
   ]
  },
  {
   "cell_type": "markdown",
   "id": "1943153f-67d8-47e9-8cd1-deb98f73e0fe",
   "metadata": {
    "jp-MarkdownHeadingCollapsed": true
   },
   "source": [
    "## 88 合并两个有序数组"
   ]
  },
  {
   "cell_type": "code",
   "execution_count": null,
   "id": "9aae2277-1737-4cc0-b198-381aeb885d60",
   "metadata": {},
   "outputs": [],
   "source": [
    "// 法1\n",
    "var merge = function(nums1, m, nums2, n) {\n",
    "let p1 = 0, p2 = 0;\n",
    "const sorted = new Array(m + n).fill(0);//创建sorted数组，\n",
    "    var cur;\n",
    "    while (p1 < m || p2 < n) {\n",
    "        if (p1 === m) {\n",
    "            cur = nums2[p2++];\n",
    "        } else if (p2 === n) {\n",
    "            cur = nums1[p1++];\n",
    "        } else if (nums1[p1] < nums2[p2]) {\n",
    "            cur = nums1[p1++];\n",
    "        } else {\n",
    "            cur = nums2[p2++];\n",
    "        }\n",
    "        sorted[p1 + p2 - 1] = cur;\n",
    "    }\n",
    "    for (let i = 0; i != m + n; ++i) {\n",
    "        nums1[i] = sorted[i];\n",
    "    }\n",
    "\n",
    "};\n",
    "// 法2\n",
    "var merge = function(nums1, m, nums2, n) {\n",
    "    let p1 = m - 1, p2 = n - 1;\n",
    "    let p = m + n - 1;\n",
    "    var cur;\n",
    "    while (p1 >= 0 || p2 >= 0) {\n",
    "        if (p1 === -1) {\n",
    "            cur = nums2[p2--];\n",
    "        } else if (p2 === -1) {\n",
    "            cur = nums1[p1--];\n",
    "        } else if (nums1[p1] > nums2[p2]) {\n",
    "            cur = nums1[p1--];\n",
    "        } else {\n",
    "            cur = nums2[p2--];\n",
    "        }\n",
    "        nums1[p--] = cur;\n",
    "    }\n",
    "};\n",
    "\n"
   ]
  },
  {
   "cell_type": "markdown",
   "id": "16f4766f-121b-4a9a-bd5b-02759c11b08c",
   "metadata": {
    "jp-MarkdownHeadingCollapsed": true
   },
   "source": [
    "## 48 旋转图像"
   ]
  },
  {
   "cell_type": "code",
   "execution_count": null,
   "id": "f9d4a9a0-2930-489d-a1ad-40258f504293",
   "metadata": {},
   "outputs": [],
   "source": [
    "// 使用了C+语法\n",
    "class Solution {\n",
    "public:\n",
    "   void rotate(vector<vector<int> > &nums) \n",
    "{\n",
    "\tint len=nums.size();\n",
    "\tfor(int i=0;i<len;i++)\n",
    "\t{\n",
    "\t\tfor(int j=0;j<=(len-1)/2;j++)\n",
    "\t\t{\n",
    "\t\t\tswap(nums[i][j], nums[i][len-j-1]);\n",
    "\t\t}\n",
    "\t}\n",
    "\tfor(int i=0;i<len;i++)\n",
    "\t{\n",
    "\t\tfor(int j=0;j<len-i-1;j++)\n",
    "\t\t{\n",
    "\t\t\tswap(nums[i][j], nums[len-1-j][len-1-i]);\n",
    "\t\t}\n",
    "\t}\n",
    "}\n",
    "};"
   ]
  }
 ],
 "metadata": {
  "kernelspec": {
   "display_name": "JavaScript (Node.js)",
   "language": "javascript",
   "name": "javascript"
  },
  "language_info": {
   "file_extension": ".js",
   "mimetype": "application/javascript",
   "name": "javascript",
   "version": "18.19.1"
  }
 },
 "nbformat": 4,
 "nbformat_minor": 5
}
