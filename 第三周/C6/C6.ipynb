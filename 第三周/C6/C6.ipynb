{
 "cells": [
  {
   "cell_type": "markdown",
   "id": "2cf679a6-9f30-45fc-b92f-1d643511eefe",
   "metadata": {
    "jp-MarkdownHeadingCollapsed": true
   },
   "source": [
    "## 230 二叉搜索树中第K小的元素"
   ]
  },
  {
   "cell_type": "code",
   "execution_count": null,
   "id": "503cd284-3fd2-44ff-8826-1e5b03d93a24",
   "metadata": {},
   "outputs": [],
   "source": [
    "// var kthSmallest = function(root, k) {\n",
    "// 法一\n",
    "//     let stack = []; // 构建一个栈 用来实现非递归的中序遍历\n",
    "//     while(root || stack.length){\n",
    "//         if(root){\n",
    "//             stack.push(root);\n",
    "//             root = root.left;\n",
    "//         } else {\n",
    "//             root = stack.pop();\n",
    "//             k--;\n",
    "//             if(k===0) break;\n",
    "//             root = root.right;\n",
    "//         }\n",
    "//     }\n",
    "//     return root.val;\n",
    "// };\n",
    "\n",
    "// 法二\n",
    "let flag, res\n",
    "const dfs = function(root){\n",
    "    if(!root) return ;\n",
    "    dfs(root.left);\n",
    "    if(--flag==0) res = root.val;\n",
    "    dfs(root.right);\n",
    "};\n",
    "\n",
    "var kthSmallest = function(root, k) {\n",
    "    flag = k;\n",
    "    dfs(root);\n",
    "    return res;\n",
    "}"
   ]
  },
  {
   "cell_type": "markdown",
   "id": "bba646e0-f59c-42d9-9176-48697e25e2a8",
   "metadata": {
    "jp-MarkdownHeadingCollapsed": true
   },
   "source": [
    "## 529 扫雷游戏"
   ]
  },
  {
   "cell_type": "code",
   "execution_count": null,
   "id": "e23c494a-1957-48a0-84f3-302ce11ea260",
   "metadata": {},
   "outputs": [],
   "source": [
    "const updateBoard = (board, click) => {\n",
    "  //矩阵行列数\n",
    "  const m = board.length;\n",
    "  const n = board[0].length;\n",
    "  //八个方位\n",
    "  const dx = [1, 1, 1, -1, -1, -1, 0, 0];\n",
    "  const dy = [1, 0, -1, 0, 1, -1, 1, -1];\n",
    "  // 判断x,y超界\n",
    "  const bound = (x, y) => {\n",
    "    if(x >= 0 && x < m && y >= 0 && y < n)\n",
    "        return 1;\n",
    "    else \n",
    "        return 0; \n",
    "    }\n",
    "  \n",
    "\n",
    "  const recursion = (x, y) => {\n",
    "    if (!bound(x, y) || board[x][y] != 'E') return;//剪枝 \n",
    "    // 不在界内或不是E，直接返回\n",
    "    let count = 0;\n",
    "    for (let i = 0; i < 8; i++) {\n",
    "         // 统计周围雷的个数\n",
    "\n",
    "      if (bound(x + dx[i], y + dy[i]) && board[x + dx[i]][y + dy[i]] == 'M') {\n",
    "        count++;\n",
    "      }\n",
    "    }\n",
    "    if (count == 0) {\n",
    "         // 如果周围没有雷，标记B，递归周围的点\n",
    "         //递归是方法，扩散是问题\n",
    "      board[x][y] = 'B';\n",
    "      for (let i = 0; i < 8; i++) {\n",
    "        recursion(x + dx[i], y + dy[i]);\n",
    "      }\n",
    "    } else { \n",
    "      board[x][y] = count.toString();\n",
    "    }\n",
    "  };\n",
    "\n",
    "  const [X, Y] = click;\n",
    "  if (board[X][Y] == 'M') { \n",
    "    // 第一下就踩雷了\n",
    "    board[X][Y] = 'X';\n",
    "  } else {\n",
    "    recursion(X, Y); \n",
    "  }\n",
    "  return board;\n",
    "};"
   ]
  },
  {
   "cell_type": "markdown",
   "id": "3e3b7728-ae4e-4c90-b79f-20620df6250d",
   "metadata": {
    "jp-MarkdownHeadingCollapsed": true
   },
   "source": [
    "## 743 网络延迟时间"
   ]
  },
  {
   "cell_type": "code",
   "execution_count": null,
   "id": "8b38b43f-05bf-4ec3-a23b-0fa9c868aeb5",
   "metadata": {},
   "outputs": [],
   "source": [
    "var networkDelayTime = function(times, n, k) {\n",
    "  const graph={};\n",
    "  for(const time of times){ //遍历times\n",
    "    const[u,v,t]=time; \n",
    "    graph[u]=graph[u]||[];//undefined初始化一个空数组\n",
    "    graph[u].push([v,t]);//push 从u点到v点 时间是t\n",
    "}\n",
    "  const distance = dfs(graph,k,n);\n",
    "  return distance.slice(1).some(item => item === Infinity)//如果有Infinity 返回-1\n",
    "  ? -1\n",
    "  : Math.max(...distance.slice(1));//否则返回所有最短路径中花费时间最长的那条\n",
    "};\n",
    "function dfs(map,start,n){//graph，k，n\n",
    "    const dist=new Array(n+1).fill(Infinity);//不要0索引 所以n+1\n",
    "    const queue=[[start,0]];//队列目标点，以及消耗的时间\n",
    "    while(queue.length){//从队列里取 然后进行比较\n",
    "        const[target,time]=queue.shift();//取出一条路径\n",
    "        if(time>dist[target]||!map[target]){\n",
    "            continue;\n",
    "        }\n",
    "        dist[target]=time; //如果有一条路径比到target最短路径短的话，更新到target的最短路径\n",
    "        for(const road of map[target]){//当前路径时间比已知目标节点时间小的情况 再从target到其他节点看是否能更新最短路径\n",
    "            const[v,t]=road;\n",
    "            if(time+t < dist[v]){//time+t 从起点到v 需要的时间\n",
    "                dist[v]=time+t;//更新最短路径\n",
    "                queue.push([v,dist[v]]);//再push到队列中\n",
    "            }\n",
    "        }\n",
    "    }\n",
    "    return dist;\n",
    "}\n"
   ]
  }
 ],
 "metadata": {
  "kernelspec": {
   "display_name": "JavaScript (Node.js)",
   "language": "javascript",
   "name": "javascript"
  },
  "language_info": {
   "file_extension": ".js",
   "mimetype": "application/javascript",
   "name": "javascript",
   "version": "18.19.1"
  }
 },
 "nbformat": 4,
 "nbformat_minor": 5
}
