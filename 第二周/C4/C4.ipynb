{
 "cells": [
  {
   "cell_type": "markdown",
   "id": "44c10995-bed1-4839-8c3e-f0296e841646",
   "metadata": {
    "jp-MarkdownHeadingCollapsed": true
   },
   "source": [
    "## 290 单词规律"
   ]
  },
  {
   "cell_type": "code",
   "execution_count": null,
   "id": "b5221243-3be3-4ac5-8259-03a770fd28cd",
   "metadata": {},
   "outputs": [],
   "source": [
    "var wordPattern = function(pattern, s) {\n",
    "    let words = s.split(\" \");\n",
    "    if(words.length !== pattern.length) return false;\n",
    "    let hash_patterm = new Map();\n",
    "    let hash_s = new Map();\n",
    "    words.forEach((word, index)=>{\n",
    "        hash_patterm.set(word, pattern[index]);\n",
    "    });\n",
    "    for(let i=0;i<pattern.length;i++){\n",
    "        hash_s.set(pattern[i], words[i]);\n",
    "    }\n",
    "    console.log(\"hash_patterm\", hash_patterm);\n",
    "    console.log(\"hash_s\", hash_s);\n",
    "    // 法1\n",
    "    for(let i=0;i<pattern.length;i++){\n",
    "        if(( hash_patterm.has(words[i]) &&  hash_patterm.get(words[i]) !== pattern[i] ) || \n",
    "            ( hash_s.has(pattern[i]) &&  hash_s.get(pattern[i]) !==words[i]) ) {\n",
    "                return false;\n",
    "            }\n",
    "    }\n",
    "    // 法2\n",
    "    // for(let i=0;i<pattern.length;i++){\n",
    "    //     // 利用indexOf返回的是第一次出现的索引来判断\n",
    "    //     if(pattern.indexOf(pattern[i]) !== words.indexOf(words[i])){\n",
    "    //         return false;\n",
    "    //     }\n",
    "    // }\n",
    "    return true;\n",
    "};"
   ]
  },
  {
   "cell_type": "markdown",
   "id": "a4f8e00c-e87a-4d96-86d4-86c2f23da8ad",
   "metadata": {
    "jp-MarkdownHeadingCollapsed": true
   },
   "source": [
    "## 242 有效的字母异位词"
   ]
  },
  {
   "cell_type": "code",
   "execution_count": null,
   "id": "5d701e0b-7b59-4c2a-a4dc-b2dd5614477d",
   "metadata": {},
   "outputs": [],
   "source": [
    "var isAnagram = function(s, t) {\n",
    "//利用字符数组来做\n",
    "\n",
    "    // if (s === t) {\n",
    "    //     return false;\n",
    "    // }\n",
    "    // if (s.length !== t.length) \n",
    "    //     return false;\n",
    "    // let array_s = Array.from(s).sort().join('');\n",
    "    // let array_t = Array.from(t).sort().join('');\n",
    "    // return array_s === array_t;\n",
    "\n",
    "//    //利用哈希表来做 \n",
    "//   // 如果两个字符串相同，则不是字母异位词\n",
    "\n",
    "    if (s === t) {\n",
    "        return false;\n",
    "    }\n",
    "    // 如果长度不同，则不是字母异位词\n",
    "    if (s.length !== t.length) {\n",
    "        return false;\n",
    "    }\n",
    "    // 创建一个MAP来记录字符的出现次数\n",
    "    let counts = new Map();\n",
    "    // 统计字符串 s 中每个字符的出现次数\n",
    "    for (let char of s) {\n",
    "    //counts在没放字符的时候，是undefined，undefined或0是等于0的\n",
    "        counts.set(char, (counts.get(char) || 0) + 1);\n",
    "    }\n",
    "    // 检查字符串 t 中的每个字符\n",
    "    for (let char of t) {\n",
    "        let value = counts.get(char);\n",
    "    //判断如果value不存在或者value为0\n",
    "        if (!value||value==0) {\n",
    "            return false;\n",
    "        }\n",
    "        counts.set(char, value - 1);\n",
    "    }\n",
    "    return true;\n",
    "};\n"
   ]
  },
  {
   "cell_type": "markdown",
   "id": "fe5604ab-1b41-465b-bfb5-95e88fb43525",
   "metadata": {
    "jp-MarkdownHeadingCollapsed": true
   },
   "source": [
    "## 454 四数相加 II"
   ]
  },
  {
   "cell_type": "code",
   "execution_count": null,
   "id": "037558de-9dc1-4d72-88cb-416daeeb0264",
   "metadata": {},
   "outputs": [],
   "source": [
    "var fourSumCount = function(nums1, nums2, nums3, nums4) {\n",
    "    const n12map = new Map();\n",
    "    const len = nums1.length;\n",
    "    for (let i of nums1) {\n",
    "        for (let j of nums2) {\n",
    "            // 统计数组12之和及对应的数量\n",
    "            if (n12map.has(i + j)) {     //map中该键已经有对应的值，次数加1，否则加入map\n",
    "                n12map.set(i + j, n12map.get(i + j) + 1);\n",
    "            } else {\n",
    "                n12map.set(i + j, 1);   \n",
    "            }\n",
    "        }\n",
    "    }\n",
    "    let res = 0;\n",
    "    for (let k of nums3) {\n",
    "        for (let l of nums4) {\n",
    "            // 若nums1[i] + nums2[j] === -(nums3[k] + nums4[l])，则将数量加入到结果中\n",
    "            if (n12map.has(-k - l)) {\n",
    "                res += n12map.get(-k - l);\n",
    "            }\n",
    "        }\n",
    "    }\n",
    "    return res;\u000b",
    "};\n"
   ]
  },
  {
   "cell_type": "markdown",
   "id": "0a157513-4ee1-4418-9f4a-afd1058f663d",
   "metadata": {
    "jp-MarkdownHeadingCollapsed": true
   },
   "source": [
    "## 724 寻找数组的中心下标"
   ]
  },
  {
   "cell_type": "code",
   "execution_count": null,
   "id": "c5d8172e-7d33-453a-b68c-dfb5e81ad830",
   "metadata": {},
   "outputs": [],
   "source": [
    "var pivotIndex = function(nums) {\n",
    "const total = nums.reduce((a, b) => a + b, 0);//num.reduce((total,num) => total + num, 0);\n",
    "    let sum = 0;\n",
    "    for (let i = 0; i < nums.length; i++) {\n",
    "        if (2 * sum + nums[i] === total) {\n",
    "            return i;\n",
    "        }\n",
    "        sum += nums[i];\n",
    "    }\n",
    "    return -1;\n",
    "};\n"
   ]
  },
  {
   "cell_type": "markdown",
   "id": "1d7fa0cb-7171-40f2-8409-5ca436f8185e",
   "metadata": {},
   "source": [
    "## 304 二维区域和检索 - 矩阵不可变"
   ]
  },
  {
   "cell_type": "code",
   "execution_count": null,
   "id": "63d8f3de-7284-4ebb-b76c-f693d5b189c6",
   "metadata": {},
   "outputs": [],
   "source": []
  }
 ],
 "metadata": {
  "kernelspec": {
   "display_name": "JavaScript (Node.js)",
   "language": "javascript",
   "name": "javascript"
  },
  "language_info": {
   "file_extension": ".js",
   "mimetype": "application/javascript",
   "name": "javascript",
   "version": "18.19.1"
  }
 },
 "nbformat": 4,
 "nbformat_minor": 5
}
