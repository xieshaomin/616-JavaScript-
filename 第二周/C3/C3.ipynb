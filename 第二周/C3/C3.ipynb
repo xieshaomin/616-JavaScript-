{
 "cells": [
  {
   "cell_type": "markdown",
   "id": "8ab0d79b-e890-4785-bd11-cfa50ff42836",
   "metadata": {
    "jp-MarkdownHeadingCollapsed": true
   },
   "source": [
    "## 344 反转字符串"
   ]
  },
  {
   "cell_type": "code",
   "execution_count": null,
   "id": "a4ac77e8-e9dd-46f6-bb08-33979cbe1e19",
   "metadata": {},
   "outputs": [],
   "source": [
    "/**\n",
    " * @param {character[]} s\n",
    " * @return {void} Do not return anything, modify s in-place instead.\n",
    " */\n",
    "\n",
    "//法一：双指针\n",
    "// var reverseString = function(s) {\n",
    "//     //获取数组长度\n",
    "//     const len = s.length;\n",
    "//     //遍历数组，定义2个指针，交换对称的元素\n",
    "//     for (let left = 0, right = len - 1; left < right; ++left, --right) {\n",
    "//         //交换\n",
    "//         [s[left], s[right]] = [s[right], s[left]];\n",
    "//     }\n",
    "// };\n",
    "\n",
    "//法二：递归\n",
    "var reverseString = function (s) {\n",
    "    let swap = (left, right) => {\n",
    "        if (left >= right) return\n",
    "        [s[left], s[right]] = [s[right], s[left]]\n",
    "        swap(left + 1, right - 1)\n",
    "    }\n",
    "    swap(0, s.length - 1)\n",
    "    return s\n",
    "}\n",
    "\n",
    "//法三：API解法\n",
    "// var reverseString = function(s) {\n",
    "//     //在原数组上修改，并将原数组返回\n",
    "//     return s.reverse();\n",
    "// };\n",
    "\n"
   ]
  },
  {
   "cell_type": "markdown",
   "id": "03b37e22-0dd2-40d7-a11c-c0f4e2298d0b",
   "metadata": {
    "jp-MarkdownHeadingCollapsed": true
   },
   "source": [
    "## 876 链表的中间结点"
   ]
  },
  {
   "cell_type": "code",
   "execution_count": null,
   "id": "cc80cfcb-0612-402f-b3ee-08b45bd4f3a1",
   "metadata": {},
   "outputs": [],
   "source": [
    "var middleNode = function(head) {\n",
    "    let S = head;//慢指针\n",
    "    let F = head;//快指针\n",
    "    while(F != null && F.next != null){\n",
    "        S = S.next;\n",
    "        F =F.next.next;\n",
    "    }\n",
    "    return S;\n",
    "};"
   ]
  },
  {
   "cell_type": "markdown",
   "id": "a6a5c881-9778-4dc8-9172-d66996d0bf67",
   "metadata": {
    "jp-MarkdownHeadingCollapsed": true
   },
   "source": [
    "## 917 仅仅反转字母"
   ]
  },
  {
   "cell_type": "code",
   "execution_count": null,
   "id": "906680c0-8e78-4f20-a265-b626df32425a",
   "metadata": {},
   "outputs": [],
   "source": [
    "var reverseOnlyLetters = function(s) {\n",
    "\n",
    "    let arr = s.split('');\n",
    "    let left = 0;\n",
    "    let right = arr.length - 1;\n",
    "    \n",
    "    while (left < right) {\n",
    "        if (!/[a-zA-Z]/.test(arr[left])) {\n",
    "            left++;\n",
    "        } else if (!/[a-zA-Z]/.test(arr[right])) {\n",
    "            right--;\n",
    "        } else {\n",
    "            [arr[left], arr[right]] = [arr[right], arr[left]];\n",
    "            left++;\n",
    "            right--;\n",
    "        }\n",
    "    }\n",
    "    \n",
    "    return arr.join('');\n",
    "};"
   ]
  },
  {
   "cell_type": "markdown",
   "id": "1b9c27c1-96a8-409c-bd31-acd6ca700a05",
   "metadata": {},
   "source": [
    "## 389 找不同"
   ]
  },
  {
   "cell_type": "code",
   "execution_count": null,
   "id": "caf435ce-7fa4-47ca-841e-c5e13564b65d",
   "metadata": {},
   "outputs": [],
   "source": [
    "var findTheDifference = function(s, t) {\n",
    "    //第一种方法：遍历数组，减去相同，剩下不同\n",
    "    // var ss = s.split(\"\");\n",
    "    // var tt = t.split(\"\");\n",
    "    // var i,j;\n",
    "    // if(ss.length == 0){\n",
    "    //     return(tt[0]);\n",
    "    // }\n",
    "    // else{\n",
    "    //     for(i = 0;i < ss.length;i++){\n",
    "    //         for(j = 0;j < tt.length;j++){\n",
    "    //             if(ss[i] == tt[j]){\n",
    "    //                 tt.splice(j,1);\n",
    "    //                 break;\n",
    "    //         }\n",
    "    //     }\n",
    "    // }\n",
    "    // }\n",
    "    // return(tt[0]);\n",
    "\n",
    "    // 第二种方法：求和ASCII码，相减\n",
    "    // let as = 0, at = 0;\n",
    "    // for (let i = 0; i < s.length; i++) {\n",
    "    //     as += s[i].charCodeAt();\n",
    "    // }\n",
    "    // for (let i = 0; i < t.length; i++) {\n",
    "    //     at += t[i].charCodeAt();\n",
    "    // }\n",
    "    // return String.fromCharCode(at-as);\n",
    "\n",
    "    //第三种方法：异或运算\n",
    "    //异或运算：q^q=0，0^q=q\n",
    "    var ss = s.split(\"\");\n",
    "    var tt = t.split(\"\");\n",
    "    var res = 0;\n",
    "    for(var i = 0; i < ss.length; i++){\n",
    "        res ^= ss[i].charCodeAt() ^ tt[i].charCodeAt();\n",
    "    }\n",
    "    res ^= tt[tt.length-1].charCodeAt();\n",
    "    return String.fromCharCode(res);\n",
    "\n",
    "};"
   ]
  },
  {
   "cell_type": "markdown",
   "id": "5a53cee5-7a42-4a37-a3a9-d71342c19013",
   "metadata": {
    "jp-MarkdownHeadingCollapsed": true
   },
   "source": [
    "## 160 相交链表"
   ]
  },
  {
   "cell_type": "code",
   "execution_count": null,
   "id": "29c8e830-0187-461c-928f-99ca19632568",
   "metadata": {},
   "outputs": [],
   "source": [
    "var getIntersectionNode = function(headA, headB) {\n",
    "    //方法一(时间复杂度：O(m+n)  空间复杂度：O(m))\n",
    "    // const visited = new Set();\n",
    "    // let temp = headA;\n",
    "    // while (temp !== null) {\n",
    "    //     visited.add(temp);\n",
    "    //     temp = temp.next;\n",
    "    // }\n",
    "    // temp = headB;\n",
    "    // while (temp !== null) {\n",
    "    //     if (visited.has(temp)) {\n",
    "    //         return temp;\n",
    "    //     }\n",
    "    //     temp = temp.next;\n",
    "    // }\n",
    "    // return null;\n",
    "\n",
    "    //方法二(时间复杂度：O(m+n)  空间复杂度：O(1))\n",
    "    let pA = headA, pB = headB\n",
    "    while(pA || pB) {\n",
    "        if(pA == pB) return pA\n",
    "        pA = (pA == null ? headB : pA.next)\n",
    "        pB = (pB == null ? headA : pB.next)\n",
    "    }\n",
    "    return null\n",
    "};"
   ]
  }
 ],
 "metadata": {
  "kernelspec": {
   "display_name": "JavaScript (Node.js)",
   "language": "javascript",
   "name": "javascript"
  },
  "language_info": {
   "file_extension": ".js",
   "mimetype": "application/javascript",
   "name": "javascript",
   "version": "18.19.1"
  }
 },
 "nbformat": 4,
 "nbformat_minor": 5
}
