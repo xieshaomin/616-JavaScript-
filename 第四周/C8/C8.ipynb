{
 "cells": [
  {
   "cell_type": "markdown",
   "id": "159a8c5e-a018-473e-834f-fb545d982116",
   "metadata": {
    "jp-MarkdownHeadingCollapsed": true
   },
   "source": [
    "## 用最少数量的箭引爆气球"
   ]
  },
  {
   "cell_type": "code",
   "execution_count": null,
   "id": "f83d0aaf-0a44-4f69-b472-1686d295aef1",
   "metadata": {},
   "outputs": [],
   "source": [
    "var findMinArrowShots = function(points) {\n",
    "    points.sort((a, b) => {\n",
    "        return a[0] - b[0];\n",
    "    })\n",
    "    let res = 1;\n",
    "    for(let i = 1; i < points.length; i++) {\n",
    "        if(points[i][0] > points[i - 1][1]) {\n",
    "            res++;\n",
    "        } else {\n",
    "            points[i][1] = Math.min(points[i - 1][1], points[i][1]);\n",
    "        }\n",
    "    }\n",
    "    return res;\n",
    "};"
   ]
  },
  {
   "cell_type": "markdown",
   "id": "b7532d70-fa7b-4f7b-a585-fec24e100c35",
   "metadata": {
    "jp-MarkdownHeadingCollapsed": true
   },
   "source": [
    "## 516最长回文子序列"
   ]
  },
  {
   "cell_type": "code",
   "execution_count": null,
   "id": "91a20b46-8e7c-4711-b70a-c5c7f6792639",
   "metadata": {},
   "outputs": [],
   "source": [
    "var longestPalindromeSubseq = function(s) {\n",
    "    const m = s.length;\n",
    "    const dp = Array.from({ length: m }, () => Array(m).fill(0));\n",
    "    for(let i=0;i<m;i++){\n",
    "        dp[i][i] = 1;\n",
    "    }\n",
    "    // dp[i][j] => 字符串的第i个位置到第j个位置的最大回文子序列的长度\n",
    "    for(let i = m - 1; i >= 0; i--) {\n",
    "        for(let j = i + 1; j < m; j++) {\n",
    "            if(s[i] === s[j]) {\n",
    "                dp[i][j] = dp[i+1][j-1] + 2;\n",
    "            } else {\n",
    "                dp[i][j] = Math.max(dp[i+1][j], dp[i][j-1]);\n",
    "            }\n",
    "        }\n",
    "    }\n",
    "    return dp[0][m-1];\n",
    "};"
   ]
  },
  {
   "cell_type": "markdown",
   "id": "33737bf0-2a10-4b28-ac22-1eefdea38523",
   "metadata": {
    "jp-MarkdownHeadingCollapsed": true
   },
   "source": [
    "## 124 二叉树中的最大路径和"
   ]
  },
  {
   "cell_type": "code",
   "execution_count": null,
   "id": "e0f91cb8-aa3b-49ac-8c64-8eb582dc7932",
   "metadata": {},
   "outputs": [],
   "source": [
    "const maxPathSum = (root) => {\n",
    "    let maxSum = Number.MIN_SAFE_INTEGER; // 最大路径和\n",
    "\n",
    "    const dfs = (root) => {\n",
    "        if (root == null) { // 遍历到null节点，收益0\n",
    "           return 0;\n",
    "        }\n",
    "        const left = dfs(root.left);   // 左子树提供的最大路径和\n",
    "        const right = dfs(root.right); // 右子树提供的最大路径和\n",
    "\n",
    "        const innerMaxSum = left + root.val + right; // 当前子树内部的最大路径和\n",
    "        maxSum = Math.max(maxSum, innerMaxSum);      // 挑战最大纪录\n",
    "\n",
    "        const outputMaxSum = root.val + Math.max(0, left, right); // 当前子树对外提供的最大和\n",
    "\n",
    "        // 如果对外提供的路径和为负，直接返回0。否则正常返回\n",
    "        return outputMaxSum < 0 ? 0 : outputMaxSum;\n",
    "    };\n",
    "\n",
    "    dfs(root);  // 递归的入口\n",
    "\n",
    "    return maxSum; \n",
    "};\n"
   ]
  },
  {
   "cell_type": "markdown",
   "id": "875cd4e2-e8fc-4c95-9017-58ff2a9a799b",
   "metadata": {
    "jp-MarkdownHeadingCollapsed": true
   },
   "source": [
    "## 63 不同路径II"
   ]
  },
  {
   "cell_type": "code",
   "execution_count": null,
   "id": "bca4c48c-b75d-42c8-8c45-ddcbb8d57f0d",
   "metadata": {},
   "outputs": [],
   "source": [
    "const uniquePathsWithObstacles = (obstacleGrid) => {\n",
    "  if (obstacleGrid[0][0] == 1) return 0; // 出发点就被障碍堵住 \n",
    "  const m = obstacleGrid.length;\n",
    "  const n = obstacleGrid[0].length;\n",
    "  // dp数组初始化\n",
    "  const dp = new Array(m);\n",
    "  for (let i = 0; i < m; i++) dp[i] = new Array(n);\n",
    "  // base case\n",
    "  dp[0][0] = 1;                 // 终点就是出发点\n",
    "  for (let i = 1; i < m; i++) { // 第一列其余的case\n",
    "    dp[i][0] = obstacleGrid[i][0] == 1 || dp[i - 1][0] == 0 ? 0 : 1;\n",
    "  }\n",
    "  for (let i = 1; i < n; i++) { // 第一行其余的case\n",
    "    dp[0][i] = obstacleGrid[0][i] == 1 || dp[0][i - 1] == 0 ? 0 : 1;\n",
    "  }\n",
    "  // 迭代\n",
    "  for (let i = 1; i < m; i++) {\n",
    "    for (let j = 1; j < n; j++) {\n",
    "      dp[i][j] = obstacleGrid[i][j] == 1 ?\n",
    "        0 :\n",
    "        dp[i - 1][j] + dp[i][j - 1];\n",
    "    }\n",
    "  }\n",
    "  return dp[m - 1][n - 1]; // 到达(m-1,n-1)的路径数\n",
    "};"
   ]
  },
  {
   "cell_type": "markdown",
   "id": "81f64b57-e1c2-4c8d-a971-1e7a34c80e48",
   "metadata": {
    "jp-MarkdownHeadingCollapsed": true
   },
   "source": [
    "## 322 零钱兑换"
   ]
  },
  {
   "cell_type": "code",
   "execution_count": null,
   "id": "fbf08d53-4379-4f99-ad46-235040fad6b0",
   "metadata": {},
   "outputs": [],
   "source": [
    "class Solution {\n",
    "public:\n",
    "    int coinChange(vector<int>& coins, int amount) {\n",
    "        int Max = amount + 1;\n",
    "        vector<int> dp(amount + 1, Max);\n",
    "        dp[0] = 0;\n",
    "        for (int i = 1; i <= amount; ++i) {\n",
    "            for (int j = 0; j < (int)coins.size(); ++j) {\n",
    "                if (coins[j] <= i) {\n",
    "                    dp[i] = min(dp[i], dp[i - coins[j]] + 1);\n",
    "                }\n",
    "            }\n",
    "        }\n",
    "        return dp[amount] > amount ? -1 : dp[amount];\n",
    "    }\n",
    "};"
   ]
  }
 ],
 "metadata": {
  "kernelspec": {
   "display_name": "JavaScript (Node.js)",
   "language": "javascript",
   "name": "javascript"
  },
  "language_info": {
   "file_extension": ".js",
   "mimetype": "application/javascript",
   "name": "javascript",
   "version": "18.19.1"
  }
 },
 "nbformat": 4,
 "nbformat_minor": 5
}
