{
 "cells": [
  {
   "cell_type": "markdown",
   "id": "e21e75a1-f12e-46f7-bc58-973cab54da23",
   "metadata": {
    "jp-MarkdownHeadingCollapsed": true
   },
   "source": [
    "## 200.岛屿数量"
   ]
  },
  {
   "cell_type": "code",
   "execution_count": null,
   "id": "a4606713-d2fb-4fe7-807a-473662a297eb",
   "metadata": {},
   "outputs": [],
   "source": [
    "const numIslands = (grid) => {\n",
    "  let count = 0\n",
    "  for (let i = 0; i < grid.length; i++) {\n",
    "    for (let j = 0; j < grid[0].length; j++) {\n",
    "      if (grid[i][j] === '1') {\n",
    "        count++\n",
    "        turnZero(i, j, grid)\n",
    "      }\n",
    "    }\n",
    "  }\n",
    "  return count\n",
    "}\n",
    "function turnZero(i, j, grid) {\n",
    "  if (i < 0 || i >= grid.length || j < 0 \n",
    "       || j >= grid[0].length || grid[i][j] === '0') return\n",
    "  grid[i][j] = '0'\n",
    "  turnZero(i, j + 1, grid)\n",
    "  turnZero(i, j - 1, grid)\n",
    "  turnZero(i + 1, j, grid)\n",
    "  turnZero(i - 1, j, grid)\n",
    "}\n",
    "\n",
    "作者：笨猪爆破组\n",
    "链接：https://leetcode.cn/problems/number-of-islands/solutions/245720/tong-ji-wan-yi-ge-dao-hou-yao-ba-ta-chen-liao-200-/\n",
    "来源：力扣（LeetCode）\n",
    "著作权归作者所有。商业转载请联系作者获得授权，非商业转载请注明出处。"
   ]
  },
  {
   "cell_type": "markdown",
   "id": "356dfd10-9254-4bce-8298-bbfeafc8f908",
   "metadata": {
    "jp-MarkdownHeadingCollapsed": true
   },
   "source": [
    "## 134加油站"
   ]
  },
  {
   "cell_type": "code",
   "execution_count": null,
   "id": "d7b8bc46-f82b-417a-9a04-ca57dc4d3d23",
   "metadata": {},
   "outputs": [],
   "source": [
    "//方法-直接遍历，像贪心，每次从起点出发，都想要走一段最远的距离，如果能够回到原点最好，没有回到原点，就继续更新\n",
    "//起点位置，继续找一个最优的起点，最优的起点当然是能够回到原点\n",
    "var canCompleteCircuit = function(gas, cost) {\n",
    "    const n = gas.length;\n",
    "    let i = 0;//表示起点加油站\n",
    "    //遍历,感觉默认就是找最优解\n",
    "    while (i < n) {\n",
    "        //初始化操作\n",
    "        let sumOfGas = 0, sumOfCost = 0;\n",
    "        let cnt = 0;//表示当前加油站，同时也是最后一个可以达到的加油站\n",
    "        //找最后一个可以到达的加油站\n",
    "        while (cnt < n) {\n",
    "            const j = (i + cnt) % n;\n",
    "            sumOfGas += gas[j];//表示目前经过的加油站得到的油量总和\n",
    "            sumOfCost += cost[j];//表示目前经过的加油站消耗的油量总和\n",
    "            if (sumOfCost > sumOfGas) {\n",
    "                break;\n",
    "            }\n",
    "            cnt++;\n",
    "        }\n",
    "        //更新起点\n",
    "        if (cnt === n) {\n",
    "            return i;\n",
    "        } else {\n",
    "            i = i + cnt + 1;//更新起点位置为第一个无法到达的加油站\n",
    "        }\n",
    "    }\n",
    "    //没有找到一个可行的起点，返回-1\n",
    "    return -1;\n",
    "};\n"
   ]
  },
  {
   "cell_type": "markdown",
   "id": "e86c6668-9d58-418d-a636-d7341b6ab956",
   "metadata": {
    "jp-MarkdownHeadingCollapsed": true
   },
   "source": [
    "## 968监控二叉树"
   ]
  },
  {
   "cell_type": "code",
   "execution_count": null,
   "id": "a98f7b84-e199-4c92-8561-38044fce71a0",
   "metadata": {},
   "outputs": [],
   "source": [
    "var minCameraCover = function(root) {\n",
    "    let camera = 0;\n",
    "    // 递归遍历二叉树 ==》 后序遍历：左右根\n",
    "    function DFS(node) {\n",
    "        // 遍历到空节点，返回覆盖状态：空节点已被覆盖\n",
    "        if (node == null) \n",
    "            return 2;\n",
    "        // 遍历左子树和右子树\n",
    "        let left = DFS(node.left);\n",
    "        let right = DFS(node.right);\n",
    "        // 如果左右子树都被覆盖，则当前节点可以当作一个叶子节点\n",
    "        if (left == 2 && right == 2)\n",
    "            return 0;\n",
    "        // 如果左右子树中有一个未覆盖，则当前节点需要一个摄像头\n",
    "        if (left == 0 || right == 0) {\n",
    "            camera++;\n",
    "            return 1;\n",
    "        }\n",
    "        // 如果左右子树中有一个摄像头，则当前节点被覆盖\n",
    "        if (left == 1 || right == 1)\n",
    "            return 2;\n",
    "    }\n",
    "    // 如果根节点未被覆盖，则需要一个摄像头\n",
    "    if (DFS(root) == 0) {\n",
    "        camera++;\n",
    "    }\n",
    "    return camera;\n",
    "};\n"
   ]
  }
 ],
 "metadata": {
  "kernelspec": {
   "display_name": "JavaScript (Node.js)",
   "language": "javascript",
   "name": "javascript"
  },
  "language_info": {
   "file_extension": ".js",
   "mimetype": "application/javascript",
   "name": "javascript",
   "version": "18.19.1"
  }
 },
 "nbformat": 4,
 "nbformat_minor": 5
}
